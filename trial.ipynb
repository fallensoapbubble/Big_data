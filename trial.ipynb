{
 "cells": [
  {
   "cell_type": "code",
   "execution_count": 6,
   "id": "1278301d-de94-45d6-aee2-c88074f7165c",
   "metadata": {},
   "outputs": [],
   "source": [
    "import json\n",
    "import pandas as pd\n",
    "data_file = open(\"yelp_academic_dataset_checkin.json\")\n",
    "data = []\n",
    "for line in data_file:\n",
    "    data.append(json.loads(line))\n",
    "checkin_df = pd.DataFrame(data)\n",
    "data_file.close()\n"
   ]
  },
  {
   "cell_type": "code",
   "execution_count": 8,
   "id": "aa24b326-5ed8-4d2c-aff0-0623ae673827",
   "metadata": {},
   "outputs": [],
   "source": [
    "now = checkin_df.head(10)"
   ]
  },
  {
   "cell_type": "code",
   "execution_count": 10,
   "id": "e6443ce9-daad-432d-abcb-52be7c53ae94",
   "metadata": {},
   "outputs": [
    {
     "data": {
      "text/html": [
       "<div>\n",
       "<style scoped>\n",
       "    .dataframe tbody tr th:only-of-type {\n",
       "        vertical-align: middle;\n",
       "    }\n",
       "\n",
       "    .dataframe tbody tr th {\n",
       "        vertical-align: top;\n",
       "    }\n",
       "\n",
       "    .dataframe thead th {\n",
       "        text-align: right;\n",
       "    }\n",
       "</style>\n",
       "<table border=\"1\" class=\"dataframe\">\n",
       "  <thead>\n",
       "    <tr style=\"text-align: right;\">\n",
       "      <th></th>\n",
       "      <th>business_id</th>\n",
       "      <th>date</th>\n",
       "    </tr>\n",
       "  </thead>\n",
       "  <tbody>\n",
       "    <tr>\n",
       "      <th>0</th>\n",
       "      <td>---kPU91CF4Lq2-WlRu9Lw</td>\n",
       "      <td>2020-03-13 21:10:56, 2020-06-02 22:18:06, 2020...</td>\n",
       "    </tr>\n",
       "    <tr>\n",
       "      <th>1</th>\n",
       "      <td>--0iUa4sNDFiZFrAdIWhZQ</td>\n",
       "      <td>2010-09-13 21:43:09, 2011-05-04 23:08:15, 2011...</td>\n",
       "    </tr>\n",
       "    <tr>\n",
       "      <th>2</th>\n",
       "      <td>--30_8IhuyMHbSOcNWd6DQ</td>\n",
       "      <td>2013-06-14 23:29:17, 2014-08-13 23:20:22</td>\n",
       "    </tr>\n",
       "    <tr>\n",
       "      <th>3</th>\n",
       "      <td>--7PUidqRWpRSpXebiyxTg</td>\n",
       "      <td>2011-02-15 17:12:00, 2011-07-28 02:46:10, 2012...</td>\n",
       "    </tr>\n",
       "    <tr>\n",
       "      <th>4</th>\n",
       "      <td>--7jw19RH9JKXgFohspgQw</td>\n",
       "      <td>2014-04-21 20:42:11, 2014-04-28 21:04:46, 2014...</td>\n",
       "    </tr>\n",
       "    <tr>\n",
       "      <th>5</th>\n",
       "      <td>--8IbOsAAxjKRoYsBFL-PA</td>\n",
       "      <td>2015-06-06 01:03:19, 2015-07-29 16:50:58, 2015...</td>\n",
       "    </tr>\n",
       "    <tr>\n",
       "      <th>6</th>\n",
       "      <td>--9osgUCSDUWUkoTLdvYhQ</td>\n",
       "      <td>2015-06-13 02:00:57, 2015-07-04 00:44:09, 2015...</td>\n",
       "    </tr>\n",
       "    <tr>\n",
       "      <th>7</th>\n",
       "      <td>--ARBQr1WMsTWiwOKOj-FQ</td>\n",
       "      <td>2014-12-12 00:44:23, 2015-01-09 00:19:52, 2015...</td>\n",
       "    </tr>\n",
       "    <tr>\n",
       "      <th>8</th>\n",
       "      <td>--FWWsIwxRwuw9vIMImcQg</td>\n",
       "      <td>2010-09-11 16:28:39, 2010-12-22 21:14:19, 2011...</td>\n",
       "    </tr>\n",
       "    <tr>\n",
       "      <th>9</th>\n",
       "      <td>--FcbSxK1AoEtEAxOgBaCw</td>\n",
       "      <td>2017-08-18 19:43:50, 2017-10-07 22:38:38, 2017...</td>\n",
       "    </tr>\n",
       "  </tbody>\n",
       "</table>\n",
       "</div>"
      ],
      "text/plain": [
       "              business_id                                               date\n",
       "0  ---kPU91CF4Lq2-WlRu9Lw  2020-03-13 21:10:56, 2020-06-02 22:18:06, 2020...\n",
       "1  --0iUa4sNDFiZFrAdIWhZQ  2010-09-13 21:43:09, 2011-05-04 23:08:15, 2011...\n",
       "2  --30_8IhuyMHbSOcNWd6DQ           2013-06-14 23:29:17, 2014-08-13 23:20:22\n",
       "3  --7PUidqRWpRSpXebiyxTg  2011-02-15 17:12:00, 2011-07-28 02:46:10, 2012...\n",
       "4  --7jw19RH9JKXgFohspgQw  2014-04-21 20:42:11, 2014-04-28 21:04:46, 2014...\n",
       "5  --8IbOsAAxjKRoYsBFL-PA  2015-06-06 01:03:19, 2015-07-29 16:50:58, 2015...\n",
       "6  --9osgUCSDUWUkoTLdvYhQ  2015-06-13 02:00:57, 2015-07-04 00:44:09, 2015...\n",
       "7  --ARBQr1WMsTWiwOKOj-FQ  2014-12-12 00:44:23, 2015-01-09 00:19:52, 2015...\n",
       "8  --FWWsIwxRwuw9vIMImcQg  2010-09-11 16:28:39, 2010-12-22 21:14:19, 2011...\n",
       "9  --FcbSxK1AoEtEAxOgBaCw  2017-08-18 19:43:50, 2017-10-07 22:38:38, 2017..."
      ]
     },
     "execution_count": 10,
     "metadata": {},
     "output_type": "execute_result"
    }
   ],
   "source": [
    "now"
   ]
  },
  {
   "cell_type": "code",
   "execution_count": 12,
   "id": "5226cca0-ddb7-4f68-b30c-9f9a941d769b",
   "metadata": {},
   "outputs": [
    {
     "name": "stdout",
     "output_type": "stream",
     "text": [
      "Requirement already satisfied: pyspark in c:\\users\\annanya\\anaconda3\\lib\\site-packages (3.5.1)\n",
      "Requirement already satisfied: py4j==0.10.9.7 in c:\\users\\annanya\\anaconda3\\lib\\site-packages (from pyspark) (0.10.9.7)\n",
      "Note: you may need to restart the kernel to use updated packages.\n"
     ]
    }
   ],
   "source": [
    "pip install pyspark"
   ]
  },
  {
   "cell_type": "code",
   "execution_count": 13,
   "id": "642902ae-c16a-48b7-8a54-e307a28c9daa",
   "metadata": {},
   "outputs": [],
   "source": [
    "import pyspark"
   ]
  },
  {
   "cell_type": "code",
   "execution_count": 14,
   "id": "07adf1a1-d43f-4f43-86d6-c05de58a9bbc",
   "metadata": {},
   "outputs": [],
   "source": [
    "from pyspark.sql import SparkSession\n"
   ]
  },
  {
   "cell_type": "code",
   "execution_count": 15,
   "id": "d4c6ec7e-7731-44fc-9b8d-478ffe0a8b0e",
   "metadata": {},
   "outputs": [],
   "source": [
    "spark = SparkSession.builder.appName(\n",
    "  \"trial session\").getOrCreate()"
   ]
  },
  {
   "cell_type": "code",
   "execution_count": 16,
   "id": "71256488-1fc4-4c2f-bcc6-9ecd93efef2b",
   "metadata": {},
   "outputs": [],
   "source": [
    "df_spark = spark.createDataFrame(now)"
   ]
  },
  {
   "cell_type": "code",
   "execution_count": 20,
   "id": "795ef099-b62e-412d-b302-6a390188418d",
   "metadata": {},
   "outputs": [
    {
     "name": "stdout",
     "output_type": "stream",
     "text": [
      "+--------------------+--------------------+\n",
      "|         business_id|                date|\n",
      "+--------------------+--------------------+\n",
      "|---kPU91CF4Lq2-Wl...|2020-03-13 21:10:...|\n",
      "|--0iUa4sNDFiZFrAd...|2010-09-13 21:43:...|\n",
      "|--30_8IhuyMHbSOcN...|2013-06-14 23:29:...|\n",
      "|--7PUidqRWpRSpXeb...|2011-02-15 17:12:...|\n",
      "|--7jw19RH9JKXgFoh...|2014-04-21 20:42:...|\n",
      "|--8IbOsAAxjKRoYsB...|2015-06-06 01:03:...|\n",
      "|--9osgUCSDUWUkoTL...|2015-06-13 02:00:...|\n",
      "|--ARBQr1WMsTWiwOK...|2014-12-12 00:44:...|\n",
      "|--FWWsIwxRwuw9vIM...|2010-09-11 16:28:...|\n",
      "|--FcbSxK1AoEtEAxO...|2017-08-18 19:43:...|\n",
      "+--------------------+--------------------+\n",
      "\n"
     ]
    }
   ],
   "source": [
    "df_spark.show()"
   ]
  },
  {
   "cell_type": "code",
   "execution_count": null,
   "id": "047342cb-7402-4b44-ba8d-cc89937528d4",
   "metadata": {},
   "outputs": [],
   "source": []
  }
 ],
 "metadata": {
  "kernelspec": {
   "display_name": "Python 3 (ipykernel)",
   "language": "python",
   "name": "python3"
  },
  "language_info": {
   "codemirror_mode": {
    "name": "ipython",
    "version": 3
   },
   "file_extension": ".py",
   "mimetype": "text/x-python",
   "name": "python",
   "nbconvert_exporter": "python",
   "pygments_lexer": "ipython3",
   "version": "3.11.5"
  }
 },
 "nbformat": 4,
 "nbformat_minor": 5
}
